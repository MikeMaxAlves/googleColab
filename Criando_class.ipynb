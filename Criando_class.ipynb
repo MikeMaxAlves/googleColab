{
  "nbformat": 4,
  "nbformat_minor": 0,
  "metadata": {
    "colab": {
      "provenance": [],
      "authorship_tag": "ABX9TyOZcRHj6QXQIQYyvNggRi0o",
      "include_colab_link": true
    },
    "kernelspec": {
      "name": "python3",
      "display_name": "Python 3"
    },
    "language_info": {
      "name": "python"
    }
  },
  "cells": [
    {
      "cell_type": "markdown",
      "metadata": {
        "id": "view-in-github",
        "colab_type": "text"
      },
      "source": [
        "<a href=\"https://colab.research.google.com/github/MikeMaxAlves/googleColab/blob/main/Criando_class.ipynb\" target=\"_parent\"><img src=\"https://colab.research.google.com/assets/colab-badge.svg\" alt=\"Open In Colab\"/></a>"
      ]
    },
    {
      "cell_type": "code",
      "execution_count": 100,
      "metadata": {
        "id": "8E_Ux5KktdwC"
      },
      "outputs": [],
      "source": [
        "class aluno:\n",
        "  def __init__(self, nome, nota1, nota2):\n",
        "    self.nome = nome\n",
        "    self.nota1 = nota1\n",
        "    self.nota2 = nota2\n",
        "    self.media = 0.0\n",
        "\n",
        "  def calcula_media(self):\n",
        "    self.media = (self.nota1 + self.nota2) / 2\n",
        "    return self.media\n",
        "\n",
        "  def mostrar_dados(self):\n",
        "    print(f'Nome: {self.nome}')\n",
        "    print(f'1º nota: {self.nota1}')\n",
        "    print(f'2º nota: {self.nota2}')\n",
        "    print(f'Media: {self.media}')\n",
        "\n",
        "  def resultado(self):\n",
        "    if self.media >= 6.0:\n",
        "      print('Aprovado')\n",
        "    else:\n",
        "      print('Reprovado')"
      ]
    },
    {
      "cell_type": "code",
      "source": [
        "aluno1 = aluno('João', 7.2, 8.9)\n",
        "media = aluno1.calcula_media()"
      ],
      "metadata": {
        "id": "nWjCW1x43Ujb"
      },
      "execution_count": 101,
      "outputs": []
    },
    {
      "cell_type": "code",
      "source": [
        "aluno2 = aluno('Thiago', 3.2, 1.9)\n",
        "media = aluno2.calcula_media()"
      ],
      "metadata": {
        "id": "s1Tf_Nz03o8m"
      },
      "execution_count": 102,
      "outputs": []
    },
    {
      "cell_type": "code",
      "source": [
        "aluno3 = aluno('João', 4.2, 5.9)\n",
        "media = aluno3.calcula_media()"
      ],
      "metadata": {
        "id": "zyU9nppX3oeZ"
      },
      "execution_count": 103,
      "outputs": []
    },
    {
      "cell_type": "code",
      "source": [
        "aluno1.mostrar_dados()\n"
      ],
      "metadata": {
        "colab": {
          "base_uri": "https://localhost:8080/"
        },
        "id": "5hpN36Mr3xvk",
        "outputId": "a686b517-07d8-4bd1-df5c-a8e12e57c395"
      },
      "execution_count": 104,
      "outputs": [
        {
          "output_type": "stream",
          "name": "stdout",
          "text": [
            "Nome: João\n",
            "1º nota: 7.2\n",
            "2º nota: 8.9\n",
            "Media: 8.05\n"
          ]
        }
      ]
    },
    {
      "cell_type": "code",
      "source": [],
      "metadata": {
        "id": "OZBGgouW3xls"
      },
      "execution_count": null,
      "outputs": []
    },
    {
      "cell_type": "code",
      "source": [],
      "metadata": {
        "id": "1tpu_VqV3xWm"
      },
      "execution_count": null,
      "outputs": []
    }
  ]
}