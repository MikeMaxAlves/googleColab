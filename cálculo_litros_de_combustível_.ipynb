{
  "nbformat": 4,
  "nbformat_minor": 0,
  "metadata": {
    "colab": {
      "provenance": [],
      "authorship_tag": "ABX9TyPRNc8MeiXE4z0hP9e1KTvv",
      "include_colab_link": true
    },
    "kernelspec": {
      "name": "python3",
      "display_name": "Python 3"
    },
    "language_info": {
      "name": "python"
    }
  },
  "cells": [
    {
      "cell_type": "markdown",
      "metadata": {
        "id": "view-in-github",
        "colab_type": "text"
      },
      "source": [
        "<a href=\"https://colab.research.google.com/github/MikeMaxAlves/googleColab/blob/main/c%C3%A1lculo_litros_de_combust%C3%ADvel_.ipynb\" target=\"_parent\"><img src=\"https://colab.research.google.com/assets/colab-badge.svg\" alt=\"Open In Colab\"/></a>"
      ]
    },
    {
      "cell_type": "code",
      "execution_count": 11,
      "metadata": {
        "colab": {
          "base_uri": "https://localhost:8080/"
        },
        "id": "WkhF5TMm9shM",
        "outputId": "78738bfd-1443-459d-fd8d-447af4607d8a"
      },
      "outputs": [
        {
          "name": "stdout",
          "output_type": "stream",
          "text": [
            "insira a velocidade media:80\n",
            "insira o tempo gasto na viagem:2\n"
          ]
        }
      ],
      "source": [
        "velocidade = float(input('insira a velocidade media:'))\n",
        "tempo = float(input(f'insira o tempo gasto na viagem:'))\n",
        "distancia = tempo * velocidade\n",
        "litros_usados = distancia / 12"
      ]
    },
    {
      "cell_type": "code",
      "source": [
        "print(f'A velocidade médida:{velocidade}')\n",
        "print(f'Tempo viagem: {tempo} hrs')\n",
        "print(f'distancia percorrida: {distancia}km')\n",
        "print(f'Litros gasto na viagem: {round(litros_usados, 2)}')"
      ],
      "metadata": {
        "colab": {
          "base_uri": "https://localhost:8080/"
        },
        "id": "ifJqABav-oqE",
        "outputId": "daaba6f9-c5c0-47bc-ba1d-877d4d4be3b0"
      },
      "execution_count": 24,
      "outputs": [
        {
          "output_type": "stream",
          "name": "stdout",
          "text": [
            "A velocidade médida:80\n",
            "Tempo viagem: 2 hrs\n",
            "distancia percorrida: 160km\n",
            "Litros gasto na viagem: 13.33\n"
          ]
        }
      ]
    }
  ]
}