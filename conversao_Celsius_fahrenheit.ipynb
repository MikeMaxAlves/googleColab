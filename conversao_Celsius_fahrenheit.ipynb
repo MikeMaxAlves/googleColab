{
  "nbformat": 4,
  "nbformat_minor": 0,
  "metadata": {
    "colab": {
      "provenance": [],
      "authorship_tag": "ABX9TyOBOPOG5PmvPGBp/8FbNcVc",
      "include_colab_link": true
    },
    "kernelspec": {
      "name": "python3",
      "display_name": "Python 3"
    },
    "language_info": {
      "name": "python"
    }
  },
  "cells": [
    {
      "cell_type": "markdown",
      "metadata": {
        "id": "view-in-github",
        "colab_type": "text"
      },
      "source": [
        "<a href=\"https://colab.research.google.com/github/MikeMaxAlves/googleColab/blob/main/conversao_Celsius_fahrenheit.ipynb\" target=\"_parent\"><img src=\"https://colab.research.google.com/assets/colab-badge.svg\" alt=\"Open In Colab\"/></a>"
      ]
    },
    {
      "cell_type": "code",
      "source": [
        "def ler_temperatura():\n",
        "  temperatura = float(input('Digite a temperatura em graus Celsius: '))\n",
        "  return temperatura"
      ],
      "metadata": {
        "id": "e2sE1Ig5RaOh"
      },
      "execution_count": 25,
      "outputs": []
    },
    {
      "cell_type": "code",
      "source": [
        "def converter(temperatura_celsius):\n",
        "  temperatura_f = (9 * temperatura_celsius + 160) / 5\n",
        "  return temperatura_f"
      ],
      "metadata": {
        "id": "cglx-GVORa2P"
      },
      "execution_count": 26,
      "outputs": []
    },
    {
      "cell_type": "code",
      "source": [
        "def mostrar(temperatura_f):\n",
        "  print(temperatura_f)"
      ],
      "metadata": {
        "id": "FNq1XK5MRcrU"
      },
      "execution_count": 27,
      "outputs": []
    },
    {
      "cell_type": "code",
      "source": [
        "temperatura_c = ler_temperatura()\n",
        "temperatura_f = converter(temperatura_c)\n",
        "mostrar(temperatura_f)"
      ],
      "metadata": {
        "colab": {
          "base_uri": "https://localhost:8080/"
        },
        "id": "S3PDMj98ReAY",
        "outputId": "423d2285-540a-419c-a253-68ce6c6cffc5"
      },
      "execution_count": 28,
      "outputs": [
        {
          "output_type": "stream",
          "name": "stdout",
          "text": [
            "Digite a temperatura em graus Celsius: 50\n",
            "122.0\n"
          ]
        }
      ]
    },
    {
      "cell_type": "code",
      "source": [],
      "metadata": {
        "id": "gJz8W3BIRfmy"
      },
      "execution_count": null,
      "outputs": []
    }
  ]
}