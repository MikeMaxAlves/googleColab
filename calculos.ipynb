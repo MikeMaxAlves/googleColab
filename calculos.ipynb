{
  "nbformat": 4,
  "nbformat_minor": 0,
  "metadata": {
    "colab": {
      "provenance": [],
      "authorship_tag": "ABX9TyPPdLyWHOW0480cE1SO3x9x",
      "include_colab_link": true
    },
    "kernelspec": {
      "name": "python3",
      "display_name": "Python 3"
    },
    "language_info": {
      "name": "python"
    }
  },
  "cells": [
    {
      "cell_type": "markdown",
      "metadata": {
        "id": "view-in-github",
        "colab_type": "text"
      },
      "source": [
        "<a href=\"https://colab.research.google.com/github/MikeMaxAlves/googleColab/blob/main/calculos.ipynb\" target=\"_parent\"><img src=\"https://colab.research.google.com/assets/colab-badge.svg\" alt=\"Open In Colab\"/></a>"
      ]
    },
    {
      "cell_type": "code",
      "execution_count": 2,
      "metadata": {
        "id": "mLX-urjf1jH0"
      },
      "outputs": [],
      "source": [
        "num1 = 4\n",
        "num2 = 6"
      ]
    },
    {
      "cell_type": "code",
      "source": [
        "print('A adição do numero {} + {} = {} '.format(num1,num2,num1 + num2))"
      ],
      "metadata": {
        "id": "MLt8FBSO1qCW"
      },
      "execution_count": null,
      "outputs": []
    },
    {
      "cell_type": "code",
      "source": [
        "print('A subtração do numero {} - {} = {} '.format(num1,num2,num1 - num2))"
      ],
      "metadata": {
        "id": "NtmQdxd233Jm"
      },
      "execution_count": null,
      "outputs": []
    },
    {
      "cell_type": "code",
      "source": [
        "print('A multiplicação  do numero {} * {} = {} '.format(num1,num2,num1 * num2))"
      ],
      "metadata": {
        "id": "JUDKL92d33Up"
      },
      "execution_count": null,
      "outputs": []
    },
    {
      "cell_type": "code",
      "source": [
        "print('A divisão  do numero {} / {} = {} '.format(num1,num2,num1 / num2))"
      ],
      "metadata": {
        "id": "Q1K9R5o34H9y"
      },
      "execution_count": null,
      "outputs": []
    }
  ]
}