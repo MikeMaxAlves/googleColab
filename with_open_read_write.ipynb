{
  "nbformat": 4,
  "nbformat_minor": 0,
  "metadata": {
    "colab": {
      "provenance": [],
      "authorship_tag": "ABX9TyNrtc7NlWF9LLK7hDIE4BxN",
      "include_colab_link": true
    },
    "kernelspec": {
      "name": "python3",
      "display_name": "Python 3"
    },
    "language_info": {
      "name": "python"
    }
  },
  "cells": [
    {
      "cell_type": "markdown",
      "metadata": {
        "id": "view-in-github",
        "colab_type": "text"
      },
      "source": [
        "<a href=\"https://colab.research.google.com/github/MikeMaxAlves/googleColab/blob/main/with_open_read_write.ipynb\" target=\"_parent\"><img src=\"https://colab.research.google.com/assets/colab-badge.svg\" alt=\"Open In Colab\"/></a>"
      ]
    },
    {
      "cell_type": "code",
      "execution_count": 34,
      "metadata": {
        "id": "CZ5Ao5YlQdS-"
      },
      "outputs": [],
      "source": [
        "alunos = {'Pedro': 8.0, 'Maria': 10.0, 'Amilton': 7.5}"
      ]
    },
    {
      "cell_type": "code",
      "source": [
        "with open('alunos.txt', 'w') as arquivo:\n",
        "  for aluno, nota in alunos.items():\n",
        "    arquivo.write(f'{aluno},{nota}\\n')"
      ],
      "metadata": {
        "id": "sNNV7vKmTJbf"
      },
      "execution_count": 37,
      "outputs": []
    },
    {
      "cell_type": "code",
      "source": [
        "with open('alunos.txt', 'r') as arquivo:\n",
        "  for linha in arquivo:\n",
        "    print(linha)"
      ],
      "metadata": {
        "colab": {
          "base_uri": "https://localhost:8080/"
        },
        "id": "ROsMvSt7Y9E7",
        "outputId": "7d8e5597-a8bd-4cb9-bec2-fe8da098468a"
      },
      "execution_count": 38,
      "outputs": [
        {
          "output_type": "stream",
          "name": "stdout",
          "text": [
            "Pedro,8.0\n",
            "\n",
            "Maria,10.0\n",
            "\n",
            "Amilton,7.5\n",
            "\n"
          ]
        }
      ]
    }
  ]
}