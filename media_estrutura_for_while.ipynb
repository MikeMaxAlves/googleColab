{
  "nbformat": 4,
  "nbformat_minor": 0,
  "metadata": {
    "colab": {
      "provenance": [],
      "authorship_tag": "ABX9TyPGfyFZQwSdlvjFx/c9tvrx",
      "include_colab_link": true
    },
    "kernelspec": {
      "name": "python3",
      "display_name": "Python 3"
    },
    "language_info": {
      "name": "python"
    }
  },
  "cells": [
    {
      "cell_type": "markdown",
      "metadata": {
        "id": "view-in-github",
        "colab_type": "text"
      },
      "source": [
        "<a href=\"https://colab.research.google.com/github/MikeMaxAlves/googleColab/blob/main/media_estrutura_for_while.ipynb\" target=\"_parent\"><img src=\"https://colab.research.google.com/assets/colab-badge.svg\" alt=\"Open In Colab\"/></a>"
      ]
    },
    {
      "cell_type": "code",
      "execution_count": 16,
      "metadata": {
        "colab": {
          "base_uri": "https://localhost:8080/"
        },
        "id": "8ytBuftgsJdn",
        "outputId": "6feaaa00-4553-4f6f-9110-712c681f9b32"
      },
      "outputs": [
        {
          "output_type": "stream",
          "name": "stdout",
          "text": [
            "Informe a nota: 5\n",
            "Informe a nota: 5\n",
            "Informe a nota: 5\n",
            "Informe a nota: 5\n",
            "Informe a nota: 5\n",
            "5.0\n"
          ]
        }
      ],
      "source": [
        "media = 0\n",
        "for contagem in range(1, 6):\n",
        "  nota = float(input('Informe a nota: '))\n",
        "  media += nota\n",
        "media = media/contagem\n",
        "print(media)"
      ]
    },
    {
      "cell_type": "code",
      "source": [
        "media = 0\n",
        "contagem = 0\n",
        "while contagem < 5:\n",
        "  contagem += 1\n",
        "  nota = float(input('Insira sua nota: '))\n",
        "  media += nota\n",
        "media = media/contagem\n",
        "print(media)"
      ],
      "metadata": {
        "colab": {
          "base_uri": "https://localhost:8080/"
        },
        "id": "2lRlOfdUvcLl",
        "outputId": "6288bca9-44d9-438b-8f90-25e7de0f10b3"
      },
      "execution_count": 24,
      "outputs": [
        {
          "output_type": "stream",
          "name": "stdout",
          "text": [
            "Insira sua nota: 8\n",
            "Insira sua nota: 6\n",
            "Insira sua nota: 5\n",
            "Insira sua nota: 3\n",
            "Insira sua nota: 2\n",
            "4.8\n"
          ]
        }
      ]
    }
  ]
}