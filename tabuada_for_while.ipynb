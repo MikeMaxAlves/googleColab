{
  "nbformat": 4,
  "nbformat_minor": 0,
  "metadata": {
    "colab": {
      "provenance": [],
      "authorship_tag": "ABX9TyPiJ3Z5n4fZM4Y4OtWqLvAX",
      "include_colab_link": true
    },
    "kernelspec": {
      "name": "python3",
      "display_name": "Python 3"
    },
    "language_info": {
      "name": "python"
    }
  },
  "cells": [
    {
      "cell_type": "markdown",
      "metadata": {
        "id": "view-in-github",
        "colab_type": "text"
      },
      "source": [
        "<a href=\"https://colab.research.google.com/github/MikeMaxAlves/googleColab/blob/main/tabuada_for_while.ipynb\" target=\"_parent\"><img src=\"https://colab.research.google.com/assets/colab-badge.svg\" alt=\"Open In Colab\"/></a>"
      ]
    },
    {
      "cell_type": "code",
      "execution_count": 5,
      "metadata": {
        "colab": {
          "base_uri": "https://localhost:8080/"
        },
        "id": "wpojOaNVw6Bu",
        "outputId": "9b1bda33-2722-42a4-e3cd-70914db20ff0"
      },
      "outputs": [
        {
          "output_type": "stream",
          "name": "stdout",
          "text": [
            "3x1 = 3 \n",
            "3x2 = 6 \n",
            "3x3 = 9 \n",
            "3x4 = 12 \n",
            "3x5 = 15 \n",
            "3x6 = 18 \n",
            "3x7 = 21 \n",
            "3x8 = 24 \n",
            "3x9 = 27 \n",
            "3x10 = 30 \n"
          ]
        }
      ],
      "source": [
        "for numero in range(1, 11):\n",
        "  calculo = numero * 3\n",
        "  print(f'3x{numero} = {calculo} ')"
      ]
    },
    {
      "cell_type": "code",
      "source": [
        "contagem = 0\n",
        "while contagem < 10:\n",
        "  contagem += 1\n",
        "  calculo = contagem * 3\n",
        "  print(f'3 x {contagem} = {calculo}')"
      ],
      "metadata": {
        "colab": {
          "base_uri": "https://localhost:8080/"
        },
        "id": "6bO9sfN3xrBL",
        "outputId": "4c9dd6a1-9a17-43b4-bf99-39c300bc5050"
      },
      "execution_count": 9,
      "outputs": [
        {
          "output_type": "stream",
          "name": "stdout",
          "text": [
            "3 x 1 = 3\n",
            "3 x 2 = 6\n",
            "3 x 3 = 9\n",
            "3 x 4 = 12\n",
            "3 x 5 = 15\n",
            "3 x 6 = 18\n",
            "3 x 7 = 21\n",
            "3 x 8 = 24\n",
            "3 x 9 = 27\n",
            "3 x 10 = 30\n"
          ]
        }
      ]
    }
  ]
}