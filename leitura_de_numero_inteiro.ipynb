{
  "nbformat": 4,
  "nbformat_minor": 0,
  "metadata": {
    "colab": {
      "provenance": [],
      "authorship_tag": "ABX9TyNquegE5fchqL481hiuLW9c",
      "include_colab_link": true
    },
    "kernelspec": {
      "name": "python3",
      "display_name": "Python 3"
    },
    "language_info": {
      "name": "python"
    }
  },
  "cells": [
    {
      "cell_type": "markdown",
      "metadata": {
        "id": "view-in-github",
        "colab_type": "text"
      },
      "source": [
        "<a href=\"https://colab.research.google.com/github/MikeMaxAlves/googleColab/blob/main/leitura_de_numero_inteiro.ipynb\" target=\"_parent\"><img src=\"https://colab.research.google.com/assets/colab-badge.svg\" alt=\"Open In Colab\"/></a>"
      ]
    },
    {
      "cell_type": "code",
      "source": [
        "lista = []\n",
        "for item in range(1,6):\n",
        "  inteiro = int(input('Digite um inteiro: '))\n",
        "  lista.append(inteiro)"
      ],
      "metadata": {
        "colab": {
          "base_uri": "https://localhost:8080/"
        },
        "id": "L-QXELJB6Wxv",
        "outputId": "1127e02f-7e50-42e5-a087-f525b1aed9c4"
      },
      "execution_count": 26,
      "outputs": [
        {
          "name": "stdout",
          "output_type": "stream",
          "text": [
            "Digite um inteiro: 1\n",
            "Digite um inteiro: 2\n",
            "Digite um inteiro: 3\n",
            "Digite um inteiro: 4\n",
            "Digite um inteiro: 5\n"
          ]
        }
      ]
    },
    {
      "cell_type": "code",
      "source": [
        "print(lista)"
      ],
      "metadata": {
        "colab": {
          "base_uri": "https://localhost:8080/"
        },
        "id": "iP1yjPHN8Amo",
        "outputId": "6ee29f39-9014-4d2f-d58d-d3ccb58c5295"
      },
      "execution_count": 28,
      "outputs": [
        {
          "output_type": "stream",
          "name": "stdout",
          "text": [
            "[1, 2, 3, 4, 5]\n"
          ]
        }
      ]
    },
    {
      "cell_type": "code",
      "source": [
        "soma = 0\n",
        "for i in range(len(lista)):\n",
        "  soma += lista[i]\n",
        "print('Soma: ', soma)"
      ],
      "metadata": {
        "colab": {
          "base_uri": "https://localhost:8080/"
        },
        "id": "RIH6FTLj9gO0",
        "outputId": "d5aed3a3-071a-4e00-f96d-362a59ec8392"
      },
      "execution_count": 27,
      "outputs": [
        {
          "output_type": "stream",
          "name": "stdout",
          "text": [
            "Soma:  15\n"
          ]
        }
      ]
    }
  ]
}